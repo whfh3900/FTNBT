{
 "cells": [
  {
   "cell_type": "code",
   "execution_count": 2,
   "id": "ffe3f5d8",
   "metadata": {},
   "outputs": [
    {
     "name": "stderr",
     "output_type": "stream",
     "text": [
      "c:\\Users\\choi seung un\\AppData\\Local\\Programs\\Python\\Python38\\lib\\site-packages\\numpy\\_distributor_init.py:30: UserWarning: loaded more than 1 DLL from .libs:\n",
      "c:\\Users\\choi seung un\\AppData\\Local\\Programs\\Python\\Python38\\lib\\site-packages\\numpy\\.libs\\libopenblas.el2c6ple4zyw3eceviv3oxxgrn2nrfm2.gfortran-win_amd64.dll\n",
      "c:\\Users\\choi seung un\\AppData\\Local\\Programs\\Python\\Python38\\lib\\site-packages\\numpy\\.libs\\libopenblas.XWYDX2IKJW2NMTWSFYNGFUWKQU3LYTCZ.gfortran-win_amd64.dll\n",
      "c:\\Users\\choi seung un\\AppData\\Local\\Programs\\Python\\Python38\\lib\\site-packages\\numpy\\.libs\\libopenblas64__v0.3.21-gcc_10_3_0.dll\n",
      "  warnings.warn(\"loaded more than 1 DLL from .libs:\"\n",
      "c:\\Users\\choi seung un\\AppData\\Local\\Programs\\Python\\Python38\\lib\\site-packages\\requests\\__init__.py:78: RequestsDependencyWarning: urllib3 (2.0.3) or chardet (3.0.4) doesn't match a supported version!\n",
      "  warnings.warn(\"urllib3 ({0}) or chardet ({1}) doesn't match a supported \"\n",
      "c:\\Users\\choi seung un\\AppData\\Local\\Programs\\Python\\Python38\\lib\\site-packages\\scipy\\__init__.py:146: UserWarning: A NumPy version >=1.16.5 and <1.23.0 is required for this version of SciPy (detected version 1.24.4\n",
      "  warnings.warn(f\"A NumPy version >={np_minversion} and <{np_maxversion}\"\n"
     ]
    }
   ],
   "source": [
    "import pandas as pd\n",
    "from tqdm import tqdm\n",
    "tqdm.pandas()\n",
    "import re\n",
    "from tensorflow import keras\n",
    "import numpy as np\n",
    "from jamo import h2j, j2hcj\n",
    "from tensorflow.keras.preprocessing.sequence import pad_sequences"
   ]
  },
  {
   "cell_type": "code",
   "execution_count": 85,
   "id": "0517066a",
   "metadata": {},
   "outputs": [],
   "source": [
    "path = \"../../data/신한은행_거래내역조회_20230704112340.txt\"\n",
    "\n",
    "data = list()\n",
    "with open(path, \"rt\", encoding=\"utf-8-sig\") as f:\n",
    "    while True:\n",
    "        text = f.readline()[:-1]\n",
    "        data.append(text)\n",
    "        if not text:\n",
    "            break\n",
    "\n",
    "# 중복제거\n",
    "data = list(set(data))"
   ]
  },
  {
   "cell_type": "code",
   "execution_count": 86,
   "id": "a97ccacb",
   "metadata": {},
   "outputs": [],
   "source": [
    "# 모델 불러오기\n",
    "model_path = \"../../model/model.h5\"\n",
    "model = keras.models.load_model(model_path)"
   ]
  },
  {
   "cell_type": "code",
   "execution_count": 76,
   "id": "183ac69a",
   "metadata": {},
   "outputs": [],
   "source": [
    "# 특수문자 제거\n",
    "def preprocessing(text):\n",
    "    text_rmv = re.sub('[-=+,#/\\?:^.@*\\\"※_~ㆍ!』‘|\\(\\)\\[\\]`\\'…》\\”\\“\\’·]', ' ', text)\n",
    "    text_rmv = ' '.join(text_rmv.split())\n",
    "    return text_rmv"
   ]
  },
  {
   "cell_type": "code",
   "execution_count": 92,
   "id": "5f00e98c",
   "metadata": {},
   "outputs": [],
   "source": [
    "def change_name(text):\n",
    "    clean_text = preprocessing(text)\n",
    "    tokens = clean_text.split()\n",
    "    new_text = str()\n",
    "    for token in tokens:\n",
    "        # token 길이가 4인경우에 이름이 들어가는 경우는 거의 없는듯.\n",
    "        if (len(token) == 3) or (len(token) >= 5):\n",
    "            name_dic = dict()\n",
    "            for i in range(len(token)-2):\n",
    "                token_1 = token[i:i+3]\n",
    "                embedding = np.array([[ord(i) for i in j2hcj(h2j(token_1))]])\n",
    "                embedding = pad_sequences(embedding, maxlen=10, padding=\"post\")\n",
    "                result = model.predict(embedding, verbose=0)[0][1]\n",
    "                # result = np.argmax(model.predict(embedding), axis=1)    \n",
    "                name_dic[token_1] = result\n",
    "            \n",
    "            for i,n in name_dic.items():\n",
    "                if n > 0.5:\n",
    "                    token = token.replace(i, \"[이름]\")\n",
    "        new_text += token + \" \"\n",
    "    return new_text[:-1]\n",
    "\n"
   ]
  },
  {
   "cell_type": "code",
   "execution_count": 93,
   "id": "c62b95e5",
   "metadata": {},
   "outputs": [
    {
     "name": "stderr",
     "output_type": "stream",
     "text": [
      "100%|██████████| 248/248 [00:19<00:00, 12.78it/s]\n"
     ]
    },
    {
     "data": {
      "text/html": [
       "<div>\n",
       "<style scoped>\n",
       "    .dataframe tbody tr th:only-of-type {\n",
       "        vertical-align: middle;\n",
       "    }\n",
       "\n",
       "    .dataframe tbody tr th {\n",
       "        vertical-align: top;\n",
       "    }\n",
       "\n",
       "    .dataframe thead th {\n",
       "        text-align: right;\n",
       "    }\n",
       "</style>\n",
       "<table border=\"1\" class=\"dataframe\">\n",
       "  <thead>\n",
       "    <tr style=\"text-align: right;\">\n",
       "      <th></th>\n",
       "      <th>text</th>\n",
       "      <th>result</th>\n",
       "    </tr>\n",
       "  </thead>\n",
       "  <tbody>\n",
       "    <tr>\n",
       "      <th>0</th>\n",
       "      <td></td>\n",
       "      <td></td>\n",
       "    </tr>\n",
       "    <tr>\n",
       "      <th>1</th>\n",
       "      <td>비플_미소돈까</td>\n",
       "      <td>비플 미소돈까</td>\n",
       "    </tr>\n",
       "    <tr>\n",
       "      <th>2</th>\n",
       "      <td>수도2208가정</td>\n",
       "      <td>수도2208가정</td>\n",
       "    </tr>\n",
       "    <tr>\n",
       "      <th>3</th>\n",
       "      <td>MICROSOFT*SUBS</td>\n",
       "      <td>MICROSOFT SUBS</td>\n",
       "    </tr>\n",
       "    <tr>\n",
       "      <th>4</th>\n",
       "      <td>(주)닉컴퍼니성과급</td>\n",
       "      <td>주 닉컴퍼니성과급</td>\n",
       "    </tr>\n",
       "    <tr>\n",
       "      <th>...</th>\n",
       "      <td>...</td>\n",
       "      <td>...</td>\n",
       "    </tr>\n",
       "    <tr>\n",
       "      <th>243</th>\n",
       "      <td>수도2304가정</td>\n",
       "      <td>수도2304가정</td>\n",
       "    </tr>\n",
       "    <tr>\n",
       "      <th>244</th>\n",
       "      <td>KT통신요금10</td>\n",
       "      <td>KT통신요금10</td>\n",
       "    </tr>\n",
       "    <tr>\n",
       "      <th>245</th>\n",
       "      <td>헤어살롱 H.L`d</td>\n",
       "      <td>헤어살롱 H L d</td>\n",
       "    </tr>\n",
       "    <tr>\n",
       "      <th>246</th>\n",
       "      <td>정소윤</td>\n",
       "      <td>[이름]</td>\n",
       "    </tr>\n",
       "    <tr>\n",
       "      <th>247</th>\n",
       "      <td>로얄 인디아</td>\n",
       "      <td>로얄 인디아</td>\n",
       "    </tr>\n",
       "  </tbody>\n",
       "</table>\n",
       "<p>248 rows × 2 columns</p>\n",
       "</div>"
      ],
      "text/plain": [
       "               text          result\n",
       "0                                  \n",
       "1           비플_미소돈까         비플 미소돈까\n",
       "2          수도2208가정        수도2208가정\n",
       "3    MICROSOFT*SUBS  MICROSOFT SUBS\n",
       "4        (주)닉컴퍼니성과급       주 닉컴퍼니성과급\n",
       "..              ...             ...\n",
       "243        수도2304가정        수도2304가정\n",
       "244        KT통신요금10        KT통신요금10\n",
       "245      헤어살롱 H.L`d      헤어살롱 H L d\n",
       "246             정소윤            [이름]\n",
       "247          로얄 인디아          로얄 인디아\n",
       "\n",
       "[248 rows x 2 columns]"
      ]
     },
     "execution_count": 93,
     "metadata": {},
     "output_type": "execute_result"
    }
   ],
   "source": [
    "df = pd.DataFrame()\n",
    "df[\"text\"] = data\n",
    "df[\"result\"] = df[\"text\"].progress_apply(lambda x: change_name(x))\n",
    "df"
   ]
  },
  {
   "cell_type": "code",
   "execution_count": 95,
   "id": "406ad517",
   "metadata": {},
   "outputs": [],
   "source": [
    "path = \"../../data/result.csv\"\n",
    "df.to_csv(path, encoding=\"utf-8-sig\", index=False)"
   ]
  },
  {
   "cell_type": "code",
   "execution_count": null,
   "id": "6ea33132",
   "metadata": {},
   "outputs": [],
   "source": []
  },
  {
   "cell_type": "code",
   "execution_count": null,
   "id": "2b4fbe4f",
   "metadata": {},
   "outputs": [],
   "source": []
  }
 ],
 "metadata": {
  "hide_input": false,
  "kernelspec": {
   "display_name": "Python 3",
   "language": "python",
   "name": "python3"
  },
  "language_info": {
   "codemirror_mode": {
    "name": "ipython",
    "version": 3
   },
   "file_extension": ".py",
   "mimetype": "text/x-python",
   "name": "python",
   "nbconvert_exporter": "python",
   "pygments_lexer": "ipython3",
   "version": "3.8.10"
  }
 },
 "nbformat": 4,
 "nbformat_minor": 5
}
