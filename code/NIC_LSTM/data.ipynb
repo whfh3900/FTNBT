{
 "cells": [
  {
   "attachments": {},
   "cell_type": "markdown",
   "id": "4e44c5a9",
   "metadata": {},
   "source": [
    "## 데이터셋 생성\n",
    "\n",
    "### 1. 데이터셋 수집\n",
    "### 2. 임베딩\n",
    "### 3. Train, Test 나누기\n",
    "### 4. 저장"
   ]
  },
  {
   "cell_type": "code",
   "execution_count": 1,
   "id": "09ef74d9",
   "metadata": {},
   "outputs": [
    {
     "name": "stderr",
     "output_type": "stream",
     "text": [
      "c:\\Users\\choi seung un\\AppData\\Local\\Programs\\Python\\Python38\\lib\\site-packages\\numpy\\_distributor_init.py:30: UserWarning: loaded more than 1 DLL from .libs:\n",
      "c:\\Users\\choi seung un\\AppData\\Local\\Programs\\Python\\Python38\\lib\\site-packages\\numpy\\.libs\\libopenblas.el2c6ple4zyw3eceviv3oxxgrn2nrfm2.gfortran-win_amd64.dll\n",
      "c:\\Users\\choi seung un\\AppData\\Local\\Programs\\Python\\Python38\\lib\\site-packages\\numpy\\.libs\\libopenblas.XWYDX2IKJW2NMTWSFYNGFUWKQU3LYTCZ.gfortran-win_amd64.dll\n",
      "c:\\Users\\choi seung un\\AppData\\Local\\Programs\\Python\\Python38\\lib\\site-packages\\numpy\\.libs\\libopenblas64__v0.3.21-gcc_10_3_0.dll\n",
      "  warnings.warn(\"loaded more than 1 DLL from .libs:\"\n",
      "c:\\Users\\choi seung un\\AppData\\Local\\Programs\\Python\\Python38\\lib\\site-packages\\scipy\\__init__.py:146: UserWarning: A NumPy version >=1.16.5 and <1.23.0 is required for this version of SciPy (detected version 1.24.4\n",
      "  warnings.warn(f\"A NumPy version >={np_minversion} and <{np_maxversion}\"\n",
      "c:\\Users\\choi seung un\\AppData\\Local\\Programs\\Python\\Python38\\lib\\site-packages\\requests\\__init__.py:78: RequestsDependencyWarning: urllib3 (2.0.3) or chardet (3.0.4) doesn't match a supported version!\n",
      "  warnings.warn(\"urllib3 ({0}) or chardet ({1}) doesn't match a supported \"\n"
     ]
    }
   ],
   "source": [
    "import pandas as pd\n",
    "from tqdm import tqdm\n",
    "tqdm.pandas()\n",
    "from sklearn.model_selection import train_test_split\n",
    "from jamo import h2j, j2hcj\n",
    "from tensorflow.keras.preprocessing.sequence import pad_sequences\n",
    "import numpy as np\n",
    "from keras.utils.np_utils import to_categorical\n",
    "from glob import glob"
   ]
  },
  {
   "cell_type": "code",
   "execution_count": 12,
   "id": "7d73ff76",
   "metadata": {},
   "outputs": [
    {
     "name": "stdout",
     "output_type": "stream",
     "text": [
      "이름이 아닌 단어 갯수:  34566 \n",
      " 이름 갯수:  47041\n"
     ]
    },
    {
     "data": {
      "text/html": [
       "<div>\n",
       "<style scoped>\n",
       "    .dataframe tbody tr th:only-of-type {\n",
       "        vertical-align: middle;\n",
       "    }\n",
       "\n",
       "    .dataframe tbody tr th {\n",
       "        vertical-align: top;\n",
       "    }\n",
       "\n",
       "    .dataframe thead th {\n",
       "        text-align: right;\n",
       "    }\n",
       "</style>\n",
       "<table border=\"1\" class=\"dataframe\">\n",
       "  <thead>\n",
       "    <tr style=\"text-align: right;\">\n",
       "      <th></th>\n",
       "      <th>text</th>\n",
       "      <th>label</th>\n",
       "    </tr>\n",
       "  </thead>\n",
       "  <tbody>\n",
       "    <tr>\n",
       "      <th>0</th>\n",
       "      <td>냅스터</td>\n",
       "      <td>0</td>\n",
       "    </tr>\n",
       "    <tr>\n",
       "      <th>1</th>\n",
       "      <td>오리콘</td>\n",
       "      <td>0</td>\n",
       "    </tr>\n",
       "    <tr>\n",
       "      <th>2</th>\n",
       "      <td>매음도</td>\n",
       "      <td>0</td>\n",
       "    </tr>\n",
       "    <tr>\n",
       "      <th>3</th>\n",
       "      <td>금유리</td>\n",
       "      <td>0</td>\n",
       "    </tr>\n",
       "    <tr>\n",
       "      <th>4</th>\n",
       "      <td>우타방</td>\n",
       "      <td>0</td>\n",
       "    </tr>\n",
       "    <tr>\n",
       "      <th>...</th>\n",
       "      <td>...</td>\n",
       "      <td>...</td>\n",
       "    </tr>\n",
       "    <tr>\n",
       "      <th>81602</th>\n",
       "      <td>김온유</td>\n",
       "      <td>1</td>\n",
       "    </tr>\n",
       "    <tr>\n",
       "      <th>81603</th>\n",
       "      <td>임희남</td>\n",
       "      <td>1</td>\n",
       "    </tr>\n",
       "    <tr>\n",
       "      <th>81604</th>\n",
       "      <td>임성언</td>\n",
       "      <td>1</td>\n",
       "    </tr>\n",
       "    <tr>\n",
       "      <th>81605</th>\n",
       "      <td>고은비</td>\n",
       "      <td>1</td>\n",
       "    </tr>\n",
       "    <tr>\n",
       "      <th>81606</th>\n",
       "      <td>고보경</td>\n",
       "      <td>1</td>\n",
       "    </tr>\n",
       "  </tbody>\n",
       "</table>\n",
       "<p>81607 rows × 2 columns</p>\n",
       "</div>"
      ],
      "text/plain": [
       "      text  label\n",
       "0      냅스터      0\n",
       "1      오리콘      0\n",
       "2      매음도      0\n",
       "3      금유리      0\n",
       "4      우타방      0\n",
       "...    ...    ...\n",
       "81602  김온유      1\n",
       "81603  임희남      1\n",
       "81604  임성언      1\n",
       "81605  고은비      1\n",
       "81606  고보경      1\n",
       "\n",
       "[81607 rows x 2 columns]"
      ]
     },
     "execution_count": 12,
     "metadata": {},
     "output_type": "execute_result"
    }
   ],
   "source": [
    "### 데이터셋 수집\n",
    "\n",
    "\n",
    "nouns = list() # 이름 외의 데이터. label 0\n",
    "names = list() # 이름 데이터. label 1\n",
    "\n",
    "# name 데이터\n",
    "for path in glob(\"../../data/name/*.txt\"):\n",
    "    with open(path, \"rt\", encoding=\"utf-8-sig\") as f:\n",
    "        while True:\n",
    "            text = f.readline()[:-1]\n",
    "            # 3글자인 텍스트만 가져온다\n",
    "            if len(text) == 3: names.append(text)\n",
    "            if not text:\n",
    "                break\n",
    "\n",
    "# etc 데이터 \n",
    "for path in glob(\"../../data/etc/*.txt\"):\n",
    "    with open(path, \"rt\", encoding=\"utf-8-sig\") as f:\n",
    "        while True:\n",
    "            text = f.readline()[:-1]\n",
    "            # 3글자인 텍스트만 가져온다\n",
    "            if len(text) == 3: nouns.append(text)\n",
    "            if not text:\n",
    "                break\n",
    "            \n",
    "nouns = set(nouns)\n",
    "names = set(names)\n",
    "nouns = list(nouns - names)\n",
    "names = list(names)\n",
    "\n",
    "print(\"이름이 아닌 단어 갯수: \", len(nouns), \"\\n\",\n",
    "      \"이름 갯수: \", len(names))\n",
    "\n",
    "\n",
    "df_0 = pd.DataFrame()\n",
    "df_0[\"text\"] = nouns\n",
    "df_0[\"label\"] = 0\n",
    "\n",
    "df_1 = pd.DataFrame()\n",
    "df_1[\"text\"] = names\n",
    "df_1[\"label\"] = 1\n",
    "\n",
    "df = pd.concat([df_0, df_1], axis=0)\n",
    "df.reset_index(inplace=True, drop=True)\n",
    "df"
   ]
  },
  {
   "cell_type": "code",
   "execution_count": 13,
   "id": "47c2790f",
   "metadata": {},
   "outputs": [
    {
     "name": "stderr",
     "output_type": "stream",
     "text": [
      "100%|██████████| 81607/81607 [00:01<00:00, 50095.24it/s]\n"
     ]
    },
    {
     "data": {
      "text/plain": [
       "array([[12596, 12624, 12610, ...,     0,     0,     0],\n",
       "       [12615, 12631, 12601, ...,     0,     0,     0],\n",
       "       [12609, 12624, 12615, ...,     0,     0,     0],\n",
       "       ...,\n",
       "       [12615, 12643, 12609, ..., 12627, 12596,     0],\n",
       "       [12593, 12631, 12615, ...,     0,     0,     0],\n",
       "       [12593, 12631, 12610, ...,     0,     0,     0]])"
      ]
     },
     "execution_count": 13,
     "metadata": {},
     "output_type": "execute_result"
    }
   ],
   "source": [
    "## 임베딩\n",
    "\n",
    "train_data = df[\"text\"].progress_apply(lambda x: [ord(i) for i in j2hcj(h2j(x))])\n",
    "train_data = np.array(train_data)\n",
    "train_data = pad_sequences(train_data, maxlen=10, padding=\"post\")\n",
    "train_data"
   ]
  },
  {
   "cell_type": "code",
   "execution_count": null,
   "id": "fbbd2332",
   "metadata": {},
   "outputs": [],
   "source": []
  },
  {
   "cell_type": "code",
   "execution_count": null,
   "id": "d4a49c99",
   "metadata": {},
   "outputs": [],
   "source": []
  },
  {
   "cell_type": "code",
   "execution_count": null,
   "id": "663c3169",
   "metadata": {},
   "outputs": [],
   "source": []
  },
  {
   "cell_type": "code",
   "execution_count": 14,
   "id": "a58f6d77",
   "metadata": {},
   "outputs": [],
   "source": [
    "# Train, Test 나누기\n",
    "\n",
    "random_seed = 1004\n",
    "x = train_data\n",
    "y = df[\"label\"]\n",
    "\n",
    "x_train, x_test, y_train, y_test = train_test_split(train_data, y, \n",
    "                                                    test_size=0.2, \n",
    "                                                    stratify=y, \n",
    "                                                    random_state=random_seed)"
   ]
  },
  {
   "cell_type": "code",
   "execution_count": 15,
   "id": "b7082d14",
   "metadata": {},
   "outputs": [],
   "source": [
    "##### 라벨을 원핫인코딩\n",
    "y_train = to_categorical(np.array(y_train))\n",
    "y_test = to_categorical(np.array(y_test))"
   ]
  },
  {
   "cell_type": "code",
   "execution_count": 16,
   "id": "9efdb4a0",
   "metadata": {},
   "outputs": [],
   "source": [
    "# 저장\n",
    "\n",
    "path = \"../../data/use_data/train_data.csv\"\n",
    "df.to_csv(path, encoding=\"utf-8-sig\", index=False)\n",
    "\n",
    "train_x_path = \"../../data/use_data/train_x.npy\"\n",
    "test_x_path = \"../../data/use_data/test_x.npy\"\n",
    "train_y_path = \"../../data/use_data/train_y.npy\"\n",
    "test_y_path = \"../../data/use_data/test_y.npy\"\n",
    "\n",
    "np.save(train_x_path, x_train)\n",
    "np.save(test_x_path, x_test)\n",
    "np.save(train_y_path, y_train)\n",
    "np.save(test_y_path, y_test)\n",
    "\n",
    "\n"
   ]
  },
  {
   "cell_type": "code",
   "execution_count": null,
   "id": "5fe4036e",
   "metadata": {},
   "outputs": [],
   "source": []
  },
  {
   "cell_type": "code",
   "execution_count": null,
   "id": "7d84a607",
   "metadata": {},
   "outputs": [],
   "source": []
  },
  {
   "cell_type": "code",
   "execution_count": null,
   "id": "b6e81e07",
   "metadata": {},
   "outputs": [],
   "source": []
  }
 ],
 "metadata": {
  "hide_input": false,
  "kernelspec": {
   "display_name": "Python 3",
   "language": "python",
   "name": "python3"
  },
  "language_info": {
   "codemirror_mode": {
    "name": "ipython",
    "version": 3
   },
   "file_extension": ".py",
   "mimetype": "text/x-python",
   "name": "python",
   "nbconvert_exporter": "python",
   "pygments_lexer": "ipython3",
   "version": "3.8.10"
  }
 },
 "nbformat": 4,
 "nbformat_minor": 5
}
